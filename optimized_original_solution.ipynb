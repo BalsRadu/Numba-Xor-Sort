{
 "cells": [
  {
   "cell_type": "markdown",
   "metadata": {},
   "source": [
    "### Problem sentence\n"
   ]
  },
  {
   "cell_type": "markdown",
   "metadata": {},
   "source": [
    "You have to create two separate functions that are not allowed to comunicate between them i.e. can't use global variables.\n",
    "I generate an array of size \"array_size\" with random integers with values less than \"max_int\" (values can repeat).\n",
    "This array is passed to the first function that is tasked to arrange the elements in the array in whatever manner it sees fit and returns the newly ordered array to me.\n",
    "I take a random element out of the array and I pass it to the second function.\n",
    "The second function is tasked with finding what element I removed from the array.\n",
    "\n",
    "Please fill in the two functions with your code.\n",
    "\n",
    "Good luck! :)\n"
   ]
  },
  {
   "cell_type": "markdown",
   "metadata": {},
   "source": [
    "### Import Libraries\n"
   ]
  },
  {
   "cell_type": "code",
   "execution_count": 266,
   "metadata": {},
   "outputs": [],
   "source": [
    "import numpy as np"
   ]
  },
  {
   "cell_type": "code",
   "execution_count": 267,
   "metadata": {},
   "outputs": [],
   "source": [
    "max_int: int = 10000\n",
    "array_size: int = 100000"
   ]
  },
  {
   "cell_type": "markdown",
   "metadata": {},
   "source": [
    "### Generate array of random numbers\n"
   ]
  },
  {
   "cell_type": "code",
   "execution_count": 268,
   "metadata": {},
   "outputs": [],
   "source": [
    "array: np.ndarray = np.random.randint(0, max_int, size=array_size)"
   ]
  },
  {
   "cell_type": "markdown",
   "metadata": {},
   "source": [
    "### Run through first program\n"
   ]
  },
  {
   "cell_type": "code",
   "execution_count": 269,
   "metadata": {},
   "outputs": [],
   "source": [
    "from numpy.random import default_rng\n",
    "\n",
    "\n",
    "def function_1(array: np.ndarray) -> np.ndarray:\n",
    "    cpy_array = np.ascontiguousarray(array, dtype=np.int64)\n",
    "    cpy_array.sort()\n",
    "\n",
    "    rng = default_rng(cpy_array.sum(dtype=np.int64))\n",
    "    rng.shuffle(cpy_array)\n",
    "\n",
    "    return cpy_array"
   ]
  },
  {
   "cell_type": "code",
   "execution_count": 270,
   "metadata": {},
   "outputs": [],
   "source": [
    "array_1 = function_1(array)"
   ]
  },
  {
   "cell_type": "markdown",
   "metadata": {},
   "source": [
    "### Remove a number from the list\n"
   ]
  },
  {
   "cell_type": "code",
   "execution_count": 271,
   "metadata": {},
   "outputs": [],
   "source": [
    "np.random.seed()\n",
    "idx = np.random.randint(0, len(array_1))\n",
    "removed_element = int(array_1[idx])\n",
    "array_1_modified = np.delete(array_1, idx)"
   ]
  },
  {
   "cell_type": "markdown",
   "metadata": {},
   "source": [
    "### Run through second program\n"
   ]
  },
  {
   "cell_type": "code",
   "execution_count": 272,
   "metadata": {},
   "outputs": [],
   "source": [
    "from joblib import Parallel, delayed\n",
    "from numpy.random import default_rng\n",
    "import numba\n",
    "\n",
    "\n",
    "@numba.njit(fastmath=True)\n",
    "def compare_with_missing(arr_shuffled, arr):\n",
    "    n = arr.shape[0]\n",
    "    m = arr_shuffled.shape[0]\n",
    "    mismatch_count = 0\n",
    "    i, j = 0, 0\n",
    "\n",
    "    while i < n and j < m:\n",
    "        if arr_shuffled[j] == arr[i]:\n",
    "            i += 1\n",
    "            j += 1\n",
    "        else:\n",
    "            mismatch_count += 1\n",
    "            j += 1\n",
    "            if mismatch_count > 1:\n",
    "                return False\n",
    "\n",
    "    mismatch_count += m - j\n",
    "    return mismatch_count == 1\n",
    "\n",
    "\n",
    "def _process_chunk(array: np.ndarray, array_sum: int, start_i: int, end_i: int) -> int:\n",
    "    n = array.size\n",
    "    cpy_array = np.empty(n + 1, dtype=np.int64)\n",
    "\n",
    "    for i in range(start_i, end_i):\n",
    "        cpy_array[:n] = array\n",
    "        cpy_array[n] = i\n",
    "\n",
    "        cpy_array.sort()\n",
    "\n",
    "        rng = default_rng(array_sum + i)\n",
    "        rng.shuffle(cpy_array)\n",
    "\n",
    "        if compare_with_missing(cpy_array, array):\n",
    "            return i\n",
    "    return -1\n",
    "\n",
    "\n",
    "def function_2(\n",
    "    array: np.ndarray, max_int: int, chunk_size: int = 100, n_jobs: int = -1\n",
    ") -> int:\n",
    "    array = np.ascontiguousarray(array, dtype=np.int64)\n",
    "    array_sum = array.sum(dtype=np.int64)\n",
    "\n",
    "    n_chunks = (max_int + chunk_size - 1) // chunk_size\n",
    "\n",
    "    tasks = (\n",
    "        delayed(_process_chunk)(\n",
    "            array, array_sum, i * chunk_size, min((i + 1) * chunk_size, max_int)\n",
    "        )\n",
    "        for i in range(n_chunks)\n",
    "    )\n",
    "\n",
    "    results = Parallel(n_jobs=n_jobs)(tasks)\n",
    "\n",
    "    valid_is = [res for res in results if res != -1]\n",
    "\n",
    "    # Return the smallest valid i or -1 if none\n",
    "    return valid_is[0] if valid_is else -1"
   ]
  },
  {
   "cell_type": "code",
   "execution_count": 273,
   "metadata": {},
   "outputs": [],
   "source": [
    "answer = function_2(array_1_modified, max_int)"
   ]
  },
  {
   "cell_type": "code",
   "execution_count": 274,
   "metadata": {},
   "outputs": [
    {
     "data": {
      "text/plain": [
       "(9051, 9051)"
      ]
     },
     "execution_count": 274,
     "metadata": {},
     "output_type": "execute_result"
    }
   ],
   "source": [
    "answer, removed_element"
   ]
  }
 ],
 "metadata": {
  "kernelspec": {
   "display_name": "fast",
   "language": "python",
   "name": "python3"
  },
  "language_info": {
   "codemirror_mode": {
    "name": "ipython",
    "version": 3
   },
   "file_extension": ".py",
   "mimetype": "text/x-python",
   "name": "python",
   "nbconvert_exporter": "python",
   "pygments_lexer": "ipython3",
   "version": "3.12.9"
  }
 },
 "nbformat": 4,
 "nbformat_minor": 2
}
