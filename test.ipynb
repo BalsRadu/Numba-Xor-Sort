{
 "cells": [
  {
   "cell_type": "markdown",
   "metadata": {},
   "source": [
    "### Problem sentence\n"
   ]
  },
  {
   "cell_type": "markdown",
   "metadata": {},
   "source": [
    "You have to create two separate functions that are not allowed to comunicate between them i.e. can't use global variables.\n",
    "I generate an array of size \"array_size\" with random integers with values less than \"max_int\" (values can repeat).\n",
    "This array is passed to the first function that is tasked to arrange the elements in the array in whatever manner it sees fit and returns the newly ordered array to me.\n",
    "I take a random element out of the array and I pass it to the second function.\n",
    "The second function is tasked with finding what element I removed from the array.\n",
    "\n",
    "Please fill in the two functions with your code.\n",
    "\n",
    "Good luck! :)\n"
   ]
  },
  {
   "cell_type": "markdown",
   "metadata": {},
   "source": [
    "### Import Libraries\n"
   ]
  },
  {
   "cell_type": "code",
   "execution_count": 51,
   "metadata": {},
   "outputs": [],
   "source": [
    "import numpy as np\n"
   ]
  },
  {
   "cell_type": "code",
   "execution_count": 52,
   "metadata": {},
   "outputs": [],
   "source": [
    "max_int: int = 10000\n",
    "array_size: int = 100000"
   ]
  },
  {
   "cell_type": "markdown",
   "metadata": {},
   "source": [
    "### Generate array of random numbers\n"
   ]
  },
  {
   "cell_type": "code",
   "execution_count": 53,
   "metadata": {},
   "outputs": [],
   "source": [
    "array: np.ndarray = np.random.randint(0, max_int, size=array_size)"
   ]
  },
  {
   "cell_type": "markdown",
   "metadata": {},
   "source": [
    "### Run through first program\n"
   ]
  },
  {
   "cell_type": "code",
   "execution_count": 54,
   "metadata": {},
   "outputs": [],
   "source": [
    "def function_1(bag):\n",
    "    S = np.sum(bag)\n",
    "    permutation = sorted(bag, key=lambda x: x ^ S)\n",
    "    return permutation"
   ]
  },
  {
   "cell_type": "code",
   "execution_count": 55,
   "metadata": {},
   "outputs": [],
   "source": [
    "array_1 = function_1(array)\n"
   ]
  },
  {
   "cell_type": "markdown",
   "metadata": {},
   "source": [
    "### Remove a number from the list\n"
   ]
  },
  {
   "cell_type": "code",
   "execution_count": 56,
   "metadata": {},
   "outputs": [],
   "source": [
    "np.random.seed()\n",
    "idx = np.random.randint(0, len(array_1))\n",
    "removed_element = array_1[idx]\n",
    "array_1_modified = np.delete(array_1, idx)"
   ]
  },
  {
   "cell_type": "code",
   "execution_count": 57,
   "metadata": {},
   "outputs": [
    {
     "data": {
      "text/plain": [
       "np.int32(3303)"
      ]
     },
     "execution_count": 57,
     "metadata": {},
     "output_type": "execute_result"
    }
   ],
   "source": [
    "removed_element"
   ]
  },
  {
   "cell_type": "markdown",
   "metadata": {},
   "source": [
    "### Run through second program\n"
   ]
  },
  {
   "cell_type": "code",
   "execution_count": 58,
   "metadata": {},
   "outputs": [],
   "source": [
    "import numpy as np\n",
    "from joblib import Parallel, delayed\n",
    "import numba\n",
    "\n",
    "\n",
    "@numba.njit(fastmath=True)\n",
    "def is_sorted_ascending(arr):\n",
    "    for i in range(len(arr) - 1):\n",
    "        if arr[i] > arr[i + 1]:\n",
    "            return False\n",
    "    return True\n",
    "\n",
    "\n",
    "@numba.njit(fastmath=True)\n",
    "def find_g_in_range(truncated_perm, S_trunc, g_start, g_end):\n",
    "    n = len(truncated_perm)\n",
    "    keys = np.empty(n, dtype=np.uint64)\n",
    "    for g in range(g_start, g_end):\n",
    "        S_candidate = S_trunc + g\n",
    "\n",
    "        for i in range(n):\n",
    "            keys[i] = truncated_perm[i] ^ S_candidate\n",
    "\n",
    "        if not is_sorted_ascending(keys):\n",
    "            continue\n",
    "\n",
    "        g_xor = g ^ S_candidate\n",
    "\n",
    "        lo, hi = 0, n\n",
    "        while lo < hi:\n",
    "            mid = (lo + hi) >> 1\n",
    "            if keys[mid] < g_xor:\n",
    "                lo = mid + 1\n",
    "            else:\n",
    "                hi = mid\n",
    "        pos = lo\n",
    "\n",
    "        if pos > 0 and keys[pos - 1] > g_xor:\n",
    "            continue\n",
    "        if pos < n and g_xor > keys[pos]:\n",
    "            continue\n",
    "\n",
    "        return g\n",
    "    return -1\n",
    "\n",
    "\n",
    "def _process_chunk(truncated_perm, S_trunc, start_g, end_g):\n",
    "    return find_g_in_range(truncated_perm, S_trunc, start_g, end_g)\n",
    "\n",
    "\n",
    "def function_2(truncated_perm, n_jobs=-1, chunk_size=100):\n",
    "    truncated_perm = np.ascontiguousarray(truncated_perm.ravel(), dtype=np.uint64)\n",
    "    S_trunc = truncated_perm.sum(dtype=np.uint64)\n",
    "\n",
    "    n_chunks = (max_int + chunk_size - 1) // chunk_size\n",
    "\n",
    "    results = Parallel(n_jobs=n_jobs)(\n",
    "        delayed(_process_chunk)(\n",
    "            truncated_perm, S_trunc, i * chunk_size, min((i + 1) * chunk_size, max_int)\n",
    "        )\n",
    "        for i in range(n_chunks)\n",
    "    )\n",
    "\n",
    "    valid_g = [r for r in results if r != -1]\n",
    "    return min(valid_g) if valid_g else None\n"
   ]
  },
  {
   "cell_type": "code",
   "execution_count": 59,
   "metadata": {},
   "outputs": [],
   "source": [
    "answer = function_2(array_1_modified)"
   ]
  },
  {
   "cell_type": "code",
   "execution_count": 60,
   "metadata": {},
   "outputs": [
    {
     "data": {
      "text/plain": [
       "3303"
      ]
     },
     "execution_count": 60,
     "metadata": {},
     "output_type": "execute_result"
    }
   ],
   "source": [
    "answer"
   ]
  }
 ],
 "metadata": {
  "kernelspec": {
   "display_name": "fast",
   "language": "python",
   "name": "python3"
  },
  "language_info": {
   "codemirror_mode": {
    "name": "ipython",
    "version": 3
   },
   "file_extension": ".py",
   "mimetype": "text/x-python",
   "name": "python",
   "nbconvert_exporter": "python",
   "pygments_lexer": "ipython3",
   "version": "3.12.9"
  }
 },
 "nbformat": 4,
 "nbformat_minor": 2
}
